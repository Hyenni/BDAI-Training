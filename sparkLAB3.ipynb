{
  "nbformat": 4,
  "nbformat_minor": 0,
  "metadata": {
    "colab": {
      "name": "sparkLAB3.ipynb",
      "version": "0.3.2",
      "provenance": [],
      "collapsed_sections": [],
      "include_colab_link": true
    },
    "language_info": {
      "codemirror_mode": {
        "name": "ipython",
        "version": 2
      },
      "file_extension": ".py",
      "mimetype": "text/x-python",
      "name": "python",
      "nbconvert_exporter": "python",
      "pygments_lexer": "ipython2",
      "version": "2.7.8"
    },
    "kernelspec": {
      "display_name": "Python 2",
      "language": "python",
      "name": "python2"
    }
  },
  "cells": [
    {
      "cell_type": "markdown",
      "metadata": {
        "id": "view-in-github",
        "colab_type": "text"
      },
      "source": [
        "<a href=\"https://colab.research.google.com/github/Hyenni/BDAI-Training/blob/master/sparkLAB3.ipynb\" target=\"_parent\"><img src=\"https://colab.research.google.com/assets/colab-badge.svg\" alt=\"Open In Colab\"/></a>"
      ]
    },
    {
      "metadata": {
        "id": "CCn4pDyrXTL7",
        "colab_type": "text"
      },
      "cell_type": "markdown",
      "source": [
        "# Use Pair RDDs to Join Two Datasets"
      ]
    },
    {
      "metadata": {
        "id": "tgRb8LgnXTL8",
        "colab_type": "code",
        "colab": {}
      },
      "cell_type": "code",
      "source": [
        "# Set the log level to WARN to reduce distracting INFO messages\n",
        "sc.setLogLevel(\"WARN\")\n",
        "\n",
        "# Step 1 - Create an RDD based on a subset of weblogs (those ending in digit 2)\n",
        "logs=sc.textFile(\"/loudacre/weblogs/*2.log\")\n",
        "# map each request (line) to a pair (userid, 1), then sum the values\n",
        "userreqs = logs \\\n",
        "   .map(lambda line: line.split()) \\\n",
        "   .map(lambda words: (words[2],1))  \\\n",
        "   .reduceByKey(lambda count1,count2: count1 + count2)\n",
        "   \n",
        "# Step 2 - Show the count frequencies\n",
        "freqcount = userreqs.map(lambda (userid,freq): (freq,userid)).countByKey()\n",
        "\n"
      ],
      "execution_count": 0,
      "outputs": []
    },
    {
      "metadata": {
        "id": "QLxrwXK3pVmN",
        "colab_type": "text"
      },
      "cell_type": "markdown",
      "source": [
        "### countByKey()를 하면 반환하는 객체가 더이상 collection type이 아니므로 take()가 없음!!!"
      ]
    },
    {
      "metadata": {
        "scrolled": true,
        "id": "5Ha1BuGZXTL_",
        "colab_type": "code",
        "outputId": "89a7b6fd-b806-4c4c-ad59-d6dd6290657f",
        "colab": {}
      },
      "cell_type": "code",
      "source": [
        "freqcount.take(2)"
      ],
      "execution_count": 0,
      "outputs": [
        {
          "output_type": "error",
          "ename": "AttributeError",
          "evalue": "'collections.defaultdict' object has no attribute 'take'",
          "traceback": [
            "\u001b[0;31m---------------------------------------------------------------------------\u001b[0m",
            "\u001b[0;31mAttributeError\u001b[0m                            Traceback (most recent call last)",
            "\u001b[0;32m<ipython-input-2-4757b26aaa85>\u001b[0m in \u001b[0;36m<module>\u001b[0;34m()\u001b[0m\n\u001b[0;32m----> 1\u001b[0;31m \u001b[0mfreqcount\u001b[0m\u001b[0;34m.\u001b[0m\u001b[0mtake\u001b[0m\u001b[0;34m(\u001b[0m\u001b[0;36m2\u001b[0m\u001b[0;34m)\u001b[0m\u001b[0;34m\u001b[0m\u001b[0m\n\u001b[0m",
            "\u001b[0;31mAttributeError\u001b[0m: 'collections.defaultdict' object has no attribute 'take'"
          ]
        }
      ]
    },
    {
      "metadata": {
        "id": "OSyKs9UdXTMC",
        "colab_type": "code",
        "outputId": "6444e575-56fc-4525-c257-3b2dad4affd9",
        "colab": {}
      },
      "cell_type": "code",
      "source": [
        "print freqcount"
      ],
      "execution_count": 0,
      "outputs": [
        {
          "output_type": "stream",
          "text": [
            "defaultdict(<type 'int'>, {128: 9, 2: 7239, 3: 36, 4: 4155, 5: 26, 6: 2162, 7: 14, 8: 1409, 9: 14, 10: 878, 11: 12, 12: 549, 13: 7, 14: 308, 15: 8, 16: 155, 17: 4, 146: 8, 19: 2, 20: 41, 21: 1, 22: 17, 150: 11, 152: 11, 132: 12, 154: 5, 27: 1, 156: 5, 158: 6, 160: 8, 162: 5, 164: 3, 134: 9, 166: 3, 168: 4, 170: 3, 172: 6, 174: 2, 24: 6, 176: 2, 136: 11, 178: 1, 188: 1, 138: 6, 190: 1, 130: 10, 140: 14, 142: 8, 86: 1, 144: 7, 100: 1, 104: 1, 106: 1, 18: 76, 110: 4, 112: 1, 116: 1, 118: 4, 120: 5, 148: 2, 122: 4, 124: 7, 126: 5})\n"
          ],
          "name": "stdout"
        }
      ]
    },
    {
      "metadata": {
        "id": "psNFsGH7XTMF",
        "colab_type": "code",
        "colab": {}
      },
      "cell_type": "code",
      "source": [
        "\n",
        "# Step 3 - Group IPs by user ID\n",
        "userips = logs \\\n",
        "   .map(lambda line: line.split()) \\\n",
        "   .map(lambda words: (words[2],words[0])) \\\n",
        "   .groupByKey() \\\n"
      ],
      "execution_count": 0,
      "outputs": []
    },
    {
      "metadata": {
        "id": "S_Q5JKbwXTMG",
        "colab_type": "code",
        "outputId": "00b70f39-4ff2-41e6-9dbc-404695e203c3",
        "colab": {}
      },
      "cell_type": "code",
      "source": [
        "userips.take(2)\n"
      ],
      "execution_count": 0,
      "outputs": [
        {
          "output_type": "execute_result",
          "data": {
            "text/plain": [
              "[(u'3922', <pyspark.resultiterable.ResultIterable at 0x7efd40046a10>),\n",
              " (u'104959', <pyspark.resultiterable.ResultIterable at 0x7efd401d5ad0>)]"
            ]
          },
          "metadata": {
            "tags": []
          },
          "execution_count": 12
        }
      ]
    },
    {
      "metadata": {
        "id": "ZSY4jJDaXTMJ",
        "colab_type": "code",
        "outputId": "3d0267b3-93a6-4d94-eaac-b1e835e8d7c4",
        "colab": {}
      },
      "cell_type": "code",
      "source": [
        "mmm = userips.mapValues(list)\n",
        "mmmm = userips.map(lambda (k,v): (k, list(v)))\n",
        "mmm.take(2)"
      ],
      "execution_count": 0,
      "outputs": [
        {
          "output_type": "execute_result",
          "data": {
            "text/plain": [
              "[(u'3922',\n",
              "  [u'195.220.211.104',\n",
              "   u'195.220.211.104',\n",
              "   u'138.217.174.182',\n",
              "   u'138.217.174.182',\n",
              "   u'138.217.174.182',\n",
              "   u'138.217.174.182']),\n",
              " (u'104959', [u'183.123.205.115', u'183.123.205.115'])]"
            ]
          },
          "metadata": {
            "tags": []
          },
          "execution_count": 15
        }
      ]
    },
    {
      "metadata": {
        "id": "B-ZpHqE1XTML",
        "colab_type": "code",
        "outputId": "c65da6c9-8650-472d-f6f9-380955161335",
        "colab": {}
      },
      "cell_type": "code",
      "source": [
        "# print out the first 10 user ids, and their IP list\n",
        "for (userid,ips) in userips.take(10):\n",
        "   print userid, \":\"\n",
        "   for ip in ips: print \"\\t\",ip"
      ],
      "execution_count": 0,
      "outputs": [
        {
          "output_type": "stream",
          "text": [
            "3922 :\n",
            "\t195.220.211.104\n",
            "\t195.220.211.104\n",
            "\t138.217.174.182\n",
            "\t138.217.174.182\n",
            "\t138.217.174.182\n",
            "\t138.217.174.182\n",
            "104959 :\n",
            "\t183.123.205.115\n",
            "\t183.123.205.115\n",
            "90396 :\n",
            "\t191.120.254.24\n",
            "\t191.120.254.24\n",
            "62733 :\n",
            "\t93.120.232.94\n",
            "\t93.120.232.94\n",
            "\t92.75.142.64\n",
            "\t92.75.142.64\n",
            "30390 :\n",
            "\t235.242.157.100\n",
            "\t235.242.157.100\n",
            "84780 :\n",
            "\t148.5.198.57\n",
            "\t148.5.198.57\n",
            "\t148.5.198.57\n",
            "\t148.5.198.57\n",
            "\t240.70.72.108\n",
            "\t240.70.72.108\n",
            "54217 :\n",
            "\t236.59.12.138\n",
            "\t236.59.12.138\n",
            "\t121.125.136.169\n",
            "\t121.125.136.169\n",
            "\t122.72.182.201\n",
            "\t122.72.182.201\n",
            "\t85.209.207.112\n",
            "\t85.209.207.112\n",
            "\t212.95.104.25\n",
            "\t212.95.104.25\n",
            "\t212.95.104.25\n",
            "\t212.95.104.25\n",
            "\t5.82.216.41\n",
            "\t5.82.216.41\n",
            "\t5.82.216.41\n",
            "\t5.82.216.41\n",
            "\t218.169.205.19\n",
            "\t218.169.205.19\n",
            "\t218.169.205.19\n",
            "\t218.169.205.19\n",
            "60986 :\n",
            "\t81.217.213.96\n",
            "\t81.217.213.96\n",
            "\t44.89.72.134\n",
            "\t44.89.72.134\n",
            "\t249.13.225.46\n",
            "\t249.13.225.46\n",
            "\t249.13.225.46\n",
            "\t249.13.225.46\n",
            "\t88.110.41.147\n",
            "\t88.110.41.147\n",
            "44490 :\n",
            "\t83.100.72.186\n",
            "\t83.100.72.186\n",
            "54604 :\n",
            "\t159.112.48.88\n",
            "\t159.112.48.88\n",
            "\t110.199.28.152\n",
            "\t110.199.28.152\n",
            "\t197.162.156.152\n",
            "\t197.162.156.152\n",
            "\t41.69.4.131\n",
            "\t41.69.4.131\n",
            "\t144.133.38.146\n",
            "\t144.133.38.146\n",
            "\t144.133.38.146\n",
            "\t144.133.38.146\n"
          ],
          "name": "stdout"
        }
      ]
    },
    {
      "metadata": {
        "id": "b6xU8nMoXTMN",
        "colab_type": "code",
        "colab": {}
      },
      "cell_type": "code",
      "source": [
        "# Step 4a - Map account data to (userid,[values....])\n",
        "accountsdata = \"/loudacre/accounts\"\n",
        "accounts = sc.textFile(accountsdata) \\\n",
        "   .map(lambda s: s.split(',')) \\\n",
        "   .map(lambda account: (account[0],account))\n",
        "\n",
        "# Step 4b - Join account data with userreqs then merge hit count into valuelist   \n",
        "accounthits = accounts.join(userreqs)\n"
      ],
      "execution_count": 0,
      "outputs": []
    },
    {
      "metadata": {
        "id": "rkTmffX5XTMP",
        "colab_type": "code",
        "outputId": "9bd9535a-fc96-4e2c-ca1c-b3b14293d1bb",
        "colab": {}
      },
      "cell_type": "code",
      "source": [
        "accounthits.take(2)"
      ],
      "execution_count": 0,
      "outputs": [
        {
          "output_type": "execute_result",
          "data": {
            "text/plain": [
              "[(u'89371',\n",
              "  ([u'89371',\n",
              "    u'2013-09-08 02:21:15.0',\n",
              "    u'2014-01-19 12:17:06.0',\n",
              "    u'Ricky',\n",
              "    u'Pope',\n",
              "    u'4535 Highland Drive',\n",
              "    u'Portland',\n",
              "    u'OR',\n",
              "    u'97212',\n",
              "    u'5033136196',\n",
              "    u'2014-03-18 13:32:36.0',\n",
              "    u'2014-03-18 13:32:36.0'],\n",
              "   4)),\n",
              " (u'99996',\n",
              "  ([u'99996',\n",
              "    u'2013-03-14 19:19:45.0',\n",
              "    u'2014-02-07 16:32:29.0',\n",
              "    u'Garrett',\n",
              "    u'Allen',\n",
              "    u'495 Wilson Street',\n",
              "    u'Prescott',\n",
              "    u'AZ',\n",
              "    u'86360',\n",
              "    u'9280545713',\n",
              "    u'2014-03-18 13:32:56.0',\n",
              "    u'2014-03-18 13:32:56.0'],\n",
              "   2))]"
            ]
          },
          "metadata": {
            "tags": []
          },
          "execution_count": 21
        }
      ]
    },
    {
      "metadata": {
        "id": "TL-Mwsr5XTMS",
        "colab_type": "code",
        "outputId": "5521a701-948e-4325-c83e-62a3fad1d9b4",
        "colab": {}
      },
      "cell_type": "code",
      "source": [
        "# Step 4c - Display userid, hit count, first name, last name for the first 5 elements\n",
        "for (userid,(values,count)) in accounthits.take(5) : \n",
        "    print  userid, count, values[3],values[4]\n"
      ],
      "execution_count": 0,
      "outputs": [
        {
          "output_type": "stream",
          "text": [
            "89371 4 Ricky Pope\n",
            "99996 2 Garrett Allen\n",
            "69171 6 Richard Tarver\n",
            "90311 2 David Rosenberg\n",
            "36848 6 Aaron Hutson\n"
          ],
          "name": "stdout"
        }
      ]
    },
    {
      "metadata": {
        "id": "oIvS2G2eXTMU",
        "colab_type": "text"
      },
      "cell_type": "markdown",
      "source": [
        "# Bonus"
      ]
    },
    {
      "metadata": {
        "id": "9OZNt9pFXTMV",
        "colab_type": "code",
        "colab": {}
      },
      "cell_type": "code",
      "source": [
        "# Set the log level to WARN to reduce distracting INFO messages\n",
        "sc.setLogLevel(\"WARN\")\n",
        "\n",
        "accountsdata = \"/loudacre/accounts\"\n",
        "   \n",
        "# Bonus 1 - key accounts by postal/zip code\n",
        "accountsByPCode = sc.textFile(accountsdata) \\\n",
        "   .map(lambda s: s.split(','))\\\n",
        "   .keyBy(lambda account: account[8])\n"
      ],
      "execution_count": 0,
      "outputs": []
    },
    {
      "metadata": {
        "id": "Q2PFqGdBXTMX",
        "colab_type": "code",
        "outputId": "9274897b-f650-44bf-e274-939f43b6d1e8",
        "colab": {}
      },
      "cell_type": "code",
      "source": [
        "accountsByPCode.take(2)"
      ],
      "execution_count": 0,
      "outputs": [
        {
          "output_type": "execute_result",
          "data": {
            "text/plain": [
              "[(u'94660',\n",
              "  [u'1',\n",
              "   u'2008-10-23 16:05:05.0',\n",
              "   u'\\\\N',\n",
              "   u'Donald',\n",
              "   u'Becton',\n",
              "   u'2275 Washburn Street',\n",
              "   u'Oakland',\n",
              "   u'CA',\n",
              "   u'94660',\n",
              "   u'5100032418',\n",
              "   u'2014-03-18 13:29:47.0',\n",
              "   u'2014-03-18 13:29:47.0']),\n",
              " (u'94171',\n",
              "  [u'2',\n",
              "   u'2008-11-12 03:00:01.0',\n",
              "   u'\\\\N',\n",
              "   u'Donna',\n",
              "   u'Jones',\n",
              "   u'3885 Elliott Street',\n",
              "   u'San Francisco',\n",
              "   u'CA',\n",
              "   u'94171',\n",
              "   u'4150835799',\n",
              "   u'2014-03-18 13:29:47.0',\n",
              "   u'2014-03-18 13:29:47.0'])]"
            ]
          },
          "metadata": {
            "tags": []
          },
          "execution_count": 24
        }
      ]
    },
    {
      "metadata": {
        "id": "GXPmeAZvXTMZ",
        "colab_type": "code",
        "outputId": "52d37cc5-5813-480f-8e3e-8fae1e328ebd",
        "colab": {}
      },
      "cell_type": "code",
      "source": [
        "# Bonus 2 - map account data to lastname,firstname  \n",
        "namesByPCode = accountsByPCode\\\n",
        "   .mapValues(lambda account: account[4] + ',' + account[3]) \\\n",
        "   .groupByKey()\n",
        "\n",
        "# Bonus 3 - print the first 5 zip codes and list the names \n",
        "for (pcode,names) in namesByPCode.sortByKey().take(5):\n",
        "   print \"---\" ,pcode\n",
        "   for name in names: print name"
      ],
      "execution_count": 0,
      "outputs": [
        {
          "output_type": "stream",
          "text": [
            "--- 85000\n",
            "Allen,Harvey\n",
            "Prinz,Daniel\n",
            "Pascale,Robert\n",
            "Brookes,Donna\n",
            "Mackenzie,James\n",
            "Chamberlain,Robert\n",
            "Cunningham,Richard\n",
            "Sewell,Bailey\n",
            "Marin,Daniel\n",
            "--- 85001\n",
            "Mendelsohn,Frances\n",
            "Watson,Mary\n",
            "Brookover,Donald\n",
            "Hathaway,Brandon\n",
            "Leonard,Crystal\n",
            "Moran,Carrie\n",
            "Kirksey,Marie\n",
            "Lance,Issac\n",
            "Barnes,Vesta\n",
            "Fiore,Eva\n",
            "Tucker,Keith\n",
            "Medford,Danielle\n",
            "Spell,Norman\n",
            "Soto,Shelley\n",
            "Frantz,Kathy\n",
            "Wilkins,Timothy\n",
            "Snyder,Joseph\n",
            "Flores,Delbert\n",
            "Eakes,Gail\n",
            "Daniels,Bert\n",
            "Carpenter,Vincent\n",
            "--- 85002\n",
            "Whitney,Ruby\n",
            "Perry,David\n",
            "James,Marianne\n",
            "Holiman,Nancy\n",
            "Roman,Allen\n",
            "Manus,Donna\n",
            "Reed,Nancy\n",
            "Baird,Estella\n",
            "Gilbert,James\n",
            "McKay,David\n",
            "Clark,Laura\n",
            "Horn,John\n",
            "Payne,Jessica\n",
            "Stewart,Bryant\n",
            "Jones,Jose\n",
            "Robinson,Wesley\n",
            "--- 85003\n",
            "Martin,Mark\n",
            "Ross,Vivian\n",
            "Tabor,Harry\n",
            "Strickland,Kyle\n",
            "Dvorak,Kevin\n",
            "Wisniewski,Virginia\n",
            "Gibson,Catherine\n",
            "Thies,Lindsey\n",
            "--- 85004\n",
            "Kitts,Mary\n",
            "Viola,Kevin\n",
            "Meadows,Tonya\n",
            "Royalty,Sherry\n",
            "Collins,Greg\n",
            "Shirley,Joseph\n",
            "White,Sandra\n",
            "Stern,Timothy\n",
            "Johnson,Dominic\n",
            "Dewitt,Mary\n",
            "Carpenter,Matthew\n",
            "Ball,Annie\n",
            "Pate,Kathleen\n",
            "Lish,Carrie\n"
          ],
          "name": "stdout"
        }
      ]
    }
  ]
}