{
  "nbformat": 4,
  "nbformat_minor": 0,
  "metadata": {
    "colab": {
      "name": "sparkLAB2.ipynb",
      "version": "0.3.2",
      "provenance": [],
      "collapsed_sections": [],
      "include_colab_link": true
    },
    "language_info": {
      "codemirror_mode": {
        "name": "ipython",
        "version": 2
      },
      "file_extension": ".py",
      "mimetype": "text/x-python",
      "name": "python",
      "nbconvert_exporter": "python",
      "pygments_lexer": "ipython2",
      "version": "2.7.8"
    },
    "kernelspec": {
      "display_name": "Python 2",
      "language": "python",
      "name": "python2"
    }
  },
  "cells": [
    {
      "cell_type": "markdown",
      "metadata": {
        "id": "view-in-github",
        "colab_type": "text"
      },
      "source": [
        "<a href=\"https://colab.research.google.com/github/Hyenni/BDAI-Training/blob/master/sparkLAB2.ipynb\" target=\"_parent\"><img src=\"https://colab.research.google.com/assets/colab-badge.svg\" alt=\"Open In Colab\"/></a>"
      ]
    },
    {
      "metadata": {
        "id": "DW3X0bxYXLxo",
        "colab_type": "text"
      },
      "cell_type": "markdown",
      "source": [
        "# Process Data FIles with Apache Spark"
      ]
    },
    {
      "metadata": {
        "id": "L6YFGFT_XLxp",
        "colab_type": "code",
        "colab": {}
      },
      "cell_type": "code",
      "source": [
        "# Stub code to copy into Spark Shell\n",
        "\n",
        "import xml.etree.ElementTree as ElementTree\n",
        "\n",
        "# Optional: Set logging level to WARN to reduce distracting info messages\n",
        "sc.setLogLevel(\"WARN\")  \n",
        "\n",
        "# Given a string containing XML, parse the string, and \n",
        "# return an iterator of activation XML records (Elements) contained in the string\n",
        "\n",
        "def getActivations(s):\n",
        "    filetree = ElementTree.fromstring(s)\n",
        "    return filetree.getiterator('activation')\n",
        "    \n",
        "# Given an activation record (XML Element), return the model name\n",
        "def getModel(activation):\n",
        "    return activation.find('model').text \n",
        "\n",
        "# Given an activation record (XML Element), return the account number \n",
        "def getAccount(activation):\n",
        "    return activation.find('account-number').text \n"
      ],
      "execution_count": 0,
      "outputs": []
    },
    {
      "metadata": {
        "id": "U3wrz0W4XLxr",
        "colab_type": "code",
        "colab": {}
      },
      "cell_type": "code",
      "source": [
        "# Read XML files into an RDD \n",
        "files=\"/loudacre/activations\"\n",
        "activationFiles = sc.wholeTextFiles(files)\n",
        "\n",
        "# Parse each file (as a string) into a collection of activation XML records\n",
        "activationRecords = activationFiles.flatMap(lambda (filename,xmlstring): getActivations(xmlstring))\n"
      ],
      "execution_count": 0,
      "outputs": []
    },
    {
      "metadata": {
        "id": "NLMyZruXXLxw",
        "colab_type": "text"
      },
      "cell_type": "markdown",
      "source": [
        "### return activation object "
      ]
    },
    {
      "metadata": {
        "id": "c0RML8iSXLxt",
        "colab_type": "code",
        "outputId": "12509c72-0277-4eb0-fcc8-717e768e04c8",
        "colab": {}
      },
      "cell_type": "code",
      "source": [
        "activationFiles.take(2)\n",
        "activationRecords.take(2)"
      ],
      "execution_count": 0,
      "outputs": [
        {
          "output_type": "execute_result",
          "data": {
            "text/plain": [
              "[<Element 'activation' at 0x7f197819b210>,\n",
              " <Element 'activation' at 0x7f1978185510>]"
            ]
          },
          "metadata": {
            "tags": []
          },
          "execution_count": 17
        }
      ]
    },
    {
      "metadata": {
        "id": "sD0Cop5PXLxx",
        "colab_type": "code",
        "colab": {}
      },
      "cell_type": "code",
      "source": [
        "# Map each activation record to \"account-number:model-name\"\n",
        "models = activationRecords.map(lambda record: getAccount(record) + \":\" + getModel(record))"
      ],
      "execution_count": 0,
      "outputs": []
    },
    {
      "metadata": {
        "id": "OwJPiFGuXLxz",
        "colab_type": "code",
        "colab": {}
      },
      "cell_type": "code",
      "source": [
        "models.saveAsTextFile(\"/loudacre/account-models\")"
      ],
      "execution_count": 0,
      "outputs": []
    },
    {
      "metadata": {
        "id": "eMUFNv1RXLx1",
        "colab_type": "code",
        "outputId": "53ca2854-7c68-4c51-c217-bf6c184074d5",
        "colab": {}
      },
      "cell_type": "code",
      "source": [
        "models.take(2)"
      ],
      "execution_count": 0,
      "outputs": [
        {
          "output_type": "execute_result",
          "data": {
            "text/plain": [
              "['9763:MeeToo 1.0', '426:Titanic 1000']"
            ]
          },
          "metadata": {
            "tags": []
          },
          "execution_count": 20
        }
      ]
    },
    {
      "metadata": {
        "id": "lqds5KW1XLx4",
        "colab_type": "code",
        "colab": {}
      },
      "cell_type": "code",
      "source": [
        "models2 = activationRecords.map(lambda record: (getAccount(record),getModel(record)))"
      ],
      "execution_count": 0,
      "outputs": []
    },
    {
      "metadata": {
        "id": "MIz7rE1PXLx5",
        "colab_type": "code",
        "outputId": "9e9a96e9-8991-4a56-806f-1f511c3ee21e",
        "colab": {}
      },
      "cell_type": "code",
      "source": [
        "for (account, model) in models2.take(5):\n",
        "   print account + \":\" + model "
      ],
      "execution_count": 0,
      "outputs": [
        {
          "output_type": "stream",
          "text": [
            "9763:MeeToo 1.0\n",
            "426:Titanic 1000\n",
            "383:Sorrento F00L\n",
            "404:MeeToo 1.0\n",
            "393:iFruit 1\n"
          ],
          "name": "stdout"
        }
      ]
    },
    {
      "metadata": {
        "id": "sQxjKyWRXLx8",
        "colab_type": "text"
      },
      "cell_type": "markdown",
      "source": [
        "# Bonus"
      ]
    },
    {
      "metadata": {
        "id": "yiklyTEMXLx8",
        "colab_type": "code",
        "colab": {}
      },
      "cell_type": "code",
      "source": [
        "# Optional: Set logging level to WARN to reduce distracting info messages\n",
        "sc.setLogLevel(\"WARN\")  \n",
        "\n",
        "# Load the data file\n",
        "devstatus = sc.textFile(\"/loudacre/devicestatus.txt\")\n"
      ],
      "execution_count": 0,
      "outputs": []
    },
    {
      "metadata": {
        "id": "S1WqDoIQXLx-",
        "colab_type": "code",
        "outputId": "50e38fd6-8372-47b7-8ac7-0cd66a3de187",
        "colab": {}
      },
      "cell_type": "code",
      "source": [
        "devstatus.take(3)"
      ],
      "execution_count": 0,
      "outputs": [
        {
          "output_type": "execute_result",
          "data": {
            "text/plain": [
              "[u'2014-03-15:10:10:20,Sorrento F41L,8cc3b47e-bd01-4482-b500-28f2342679af,7,24,39,enabled,disabled,connected,55,67,12,33.6894754264,-117.543308253',\n",
              " u'2014-03-15:10:10:20|MeeToo 1.0|ef8c7564-0a1a-4650-a655-c8bbd5f8f943|0|31|63|70|39|27|enabled|enabled|enabled|37.4321088904|-121.485029632',\n",
              " u'2014-03-15:10:10:20|MeeToo 1.0|23eba027-b95a-4729-9a4b-a3cca51c5548|0|20|21|86|54|34|enabled|enabled|enabled|39.4378908349|-120.938978486']"
            ]
          },
          "metadata": {
            "tags": []
          },
          "execution_count": 26
        }
      ]
    },
    {
      "metadata": {
        "id": "SJ98E5pqXLyA",
        "colab_type": "code",
        "outputId": "7d9f7cc7-2983-4768-a2f1-110d91acf333",
        "colab": {}
      },
      "cell_type": "code",
      "source": [
        "# Filter out lines with < 20 characters, use the 20th character as the delimiter, parse the line, and filter out bad lines\n",
        "cleanstatus = devstatus. \\\n",
        "    filter(lambda line: len(line) > 20). \\\n",
        "    map(lambda line: line.split(line[19:20])). \\\n",
        "    filter(lambda values: len(values) == 14)\n",
        "    \n",
        "# Create a new RDD containing date, manufacturer, device ID, latitude and longitude\n",
        "devicedata = cleanstatus. \\\n",
        "    map(lambda values: (values[0], values[1].split(' ')[0], values[2], values[12], values[13]))\n",
        "\n",
        "devicedata.take(2)"
      ],
      "execution_count": 0,
      "outputs": [
        {
          "output_type": "execute_result",
          "data": {
            "text/plain": [
              "[(u'2014-03-15:10:10:20',\n",
              "  u'Sorrento',\n",
              "  u'8cc3b47e-bd01-4482-b500-28f2342679af',\n",
              "  u'33.6894754264',\n",
              "  u'-117.543308253'),\n",
              " (u'2014-03-15:10:10:20',\n",
              "  u'MeeToo',\n",
              "  u'ef8c7564-0a1a-4650-a655-c8bbd5f8f943',\n",
              "  u'37.4321088904',\n",
              "  u'-121.485029632')]"
            ]
          },
          "metadata": {
            "tags": []
          },
          "execution_count": 27
        }
      ]
    },
    {
      "metadata": {
        "id": "H5JlgBCSXLyD",
        "colab_type": "code",
        "colab": {}
      },
      "cell_type": "code",
      "source": [
        "# Save to a CSV file as a comma-delimited string (trim parenthesis from tuple toString)\n",
        "devicedata. \\\n",
        "    map(lambda values: ','.join(values)). \\\n",
        "    saveAsTextFile(\"/loudacre/devicestatus_etl\")\n"
      ],
      "execution_count": 0,
      "outputs": []
    }
  ]
}