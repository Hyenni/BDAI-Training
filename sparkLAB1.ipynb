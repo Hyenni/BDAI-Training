{
  "nbformat": 4,
  "nbformat_minor": 0,
  "metadata": {
    "colab": {
      "name": "sparkLAB1.ipynb",
      "version": "0.3.2",
      "provenance": []
    },
    "language_info": {
      "codemirror_mode": {
        "name": "ipython",
        "version": 2
      },
      "file_extension": ".py",
      "mimetype": "text/x-python",
      "name": "python",
      "nbconvert_exporter": "python",
      "pygments_lexer": "ipython2",
      "version": "2.7.8"
    },
    "kernelspec": {
      "display_name": "Python 2",
      "language": "python",
      "name": "python2"
    }
  },
  "cells": [
    {
      "metadata": {
        "id": "apvzQ7fqVIMd",
        "colab_type": "text"
      },
      "cell_type": "markdown",
      "source": [
        "# Exploring the Loudacre Web Log Files"
      ]
    },
    {
      "metadata": {
        "id": "R4eXS7VgVIMe",
        "colab_type": "code",
        "colab": {}
      },
      "cell_type": "code",
      "source": [
        "logfiles=\"/loudacre/weblogs/*\""
      ],
      "execution_count": 0,
      "outputs": []
    },
    {
      "metadata": {
        "id": "hh1Y0Xn-VIMg",
        "colab_type": "code",
        "colab": {}
      },
      "cell_type": "code",
      "source": [
        "logsRDD = sc.textFile(logfiles)"
      ],
      "execution_count": 0,
      "outputs": []
    },
    {
      "metadata": {
        "id": "cxdUTXRtVIMi",
        "colab_type": "code",
        "colab": {}
      },
      "cell_type": "code",
      "source": [
        "jpglogsRDD = logsRDD.filter(lambda line: \".jpg\" in line)"
      ],
      "execution_count": 0,
      "outputs": []
    },
    {
      "metadata": {
        "id": "Hj1HFxHBVIMk",
        "colab_type": "code",
        "outputId": "6f075888-6931-4191-c164-137cb248ecad",
        "colab": {}
      },
      "cell_type": "code",
      "source": [
        "jpglogsRDD.take(10)"
      ],
      "execution_count": 0,
      "outputs": [
        {
          "output_type": "execute_result",
          "data": {
            "text/plain": [
              "[u'217.150.149.167 - 4712 [15/Sep/2013:23:56:06 +0100] \"GET /ronin_s4.jpg HTTP/1.0\" 200 5552 \"http://www.loudacre.com\"  \"Loudacre Mobile Browser MeeToo 1.0\"',\n",
              " u'104.184.210.93 - 28402 [15/Sep/2013:23:42:53 +0100] \"GET /titanic_2200.jpg HTTP/1.0\" 200 19466 \"http://www.loudacre.com\"  \"Loudacre Mobile Browser MeeToo 2.0\"',\n",
              " u'37.91.137.134 - 36171 [15/Sep/2013:23:39:33 +0100] \"GET /ronin_novelty_note_3.jpg HTTP/1.0\" 200 7432 \"http://www.loudacre.com\"  \"Loudacre Mobile Browser iFruit 3\"',\n",
              " u'177.43.223.203 - 90653 [15/Sep/2013:23:31:17 +0100] \"GET /ifruit_3.jpg HTTP/1.0\" 200 19578 \"http://www.loudacre.com\"  \"Loudacre Mobile Browser Sorrento F31L\"',\n",
              " u'19.250.65.76 - 44388 [15/Sep/2013:23:31:10 +0100] \"GET /sorrento_f24l.jpg HTTP/1.0\" 200 5730 \"http://www.loudacre.com\"  \"Loudacre Mobile Browser iFruit 3A\"',\n",
              " u'134.72.143.150 - 24554 [15/Sep/2013:23:13:42 +0100] \"GET /sorrento_f24l.jpg HTTP/1.0\" 200 703 \"http://www.loudacre.com\"  \"Loudacre Mobile Browser iFruit 1\"',\n",
              " u'48.202.252.134 - 24990 [15/Sep/2013:23:12:00 +0100] \"GET /ifruit_3a.jpg HTTP/1.0\" 200 1730 \"http://www.loudacre.com\"  \"Loudacre Mobile Browser Titanic 2000\"',\n",
              " u'100.30.199.161 - 9834 [15/Sep/2013:23:06:14 +0100] \"GET /sorrento_f40l.jpg HTTP/1.0\" 200 15995 \"http://www.loudacre.com\"  \"Loudacre Mobile Browser iFruit 1\"',\n",
              " u'58.46.139.19 - 10399 [15/Sep/2013:23:03:16 +0100] \"GET /ronin_novelty_note_3.jpg HTTP/1.0\" 200 17725 \"http://www.loudacre.com\"  \"Loudacre Mobile Browser Titanic 1100\"',\n",
              " u'135.41.174.97 - 58228 [15/Sep/2013:22:29:56 +0100] \"GET /sorrento_f31l.jpg HTTP/1.0\" 200 14615 \"http://www.loudacre.com\"  \"Loudacre Mobile Browser iFruit 3\"']"
            ]
          },
          "metadata": {
            "tags": []
          },
          "execution_count": 17
        }
      ]
    },
    {
      "metadata": {
        "id": "kI_BoNa4VIMn",
        "colab_type": "code",
        "outputId": "f0ede486-7d0d-4e04-e1cf-47c512766d5d",
        "colab": {}
      },
      "cell_type": "code",
      "source": [
        "jpglogsRDD.count()"
      ],
      "execution_count": 0,
      "outputs": [
        {
          "output_type": "execute_result",
          "data": {
            "text/plain": [
              "64978"
            ]
          },
          "metadata": {
            "tags": []
          },
          "execution_count": 18
        }
      ]
    },
    {
      "metadata": {
        "id": "lqpQpmE7VIMp",
        "colab_type": "code",
        "outputId": "f2dfd0e0-6d95-4db0-f3a6-2e959c8220bd",
        "colab": {}
      },
      "cell_type": "code",
      "source": [
        "logsRDD.map(lambda line: len(line)).take(5)"
      ],
      "execution_count": 0,
      "outputs": [
        {
          "output_type": "execute_result",
          "data": {
            "text/plain": [
              "[151, 143, 154, 147, 160]"
            ]
          },
          "metadata": {
            "tags": []
          },
          "execution_count": 7
        }
      ]
    },
    {
      "metadata": {
        "id": "-Fj7__B4VIMr",
        "colab_type": "code",
        "outputId": "8bff7fe4-611c-4a04-8ca2-ed53950b9a4b",
        "colab": {}
      },
      "cell_type": "code",
      "source": [
        "logsRDD.map(lambda line: line.split(' ')).take(5)"
      ],
      "execution_count": 0,
      "outputs": [
        {
          "output_type": "execute_result",
          "data": {
            "text/plain": [
              "[[u'3.94.78.5',\n",
              "  u'-',\n",
              "  u'69827',\n",
              "  u'[15/Sep/2013:23:58:36',\n",
              "  u'+0100]',\n",
              "  u'\"GET',\n",
              "  u'/KBDOC-00033.html',\n",
              "  u'HTTP/1.0\"',\n",
              "  u'200',\n",
              "  u'14417',\n",
              "  u'\"http://www.loudacre.com\"',\n",
              "  u'',\n",
              "  u'\"Loudacre',\n",
              "  u'Mobile',\n",
              "  u'Browser',\n",
              "  u'iFruit',\n",
              "  u'1\"'],\n",
              " [u'3.94.78.5',\n",
              "  u'-',\n",
              "  u'69827',\n",
              "  u'[15/Sep/2013:23:58:36',\n",
              "  u'+0100]',\n",
              "  u'\"GET',\n",
              "  u'/theme.css',\n",
              "  u'HTTP/1.0\"',\n",
              "  u'200',\n",
              "  u'3576',\n",
              "  u'\"http://www.loudacre.com\"',\n",
              "  u'',\n",
              "  u'\"Loudacre',\n",
              "  u'Mobile',\n",
              "  u'Browser',\n",
              "  u'iFruit',\n",
              "  u'1\"'],\n",
              " [u'19.38.140.62',\n",
              "  u'-',\n",
              "  u'21475',\n",
              "  u'[15/Sep/2013:23:58:34',\n",
              "  u'+0100]',\n",
              "  u'\"GET',\n",
              "  u'/KBDOC-00277.html',\n",
              "  u'HTTP/1.0\"',\n",
              "  u'200',\n",
              "  u'15517',\n",
              "  u'\"http://www.loudacre.com\"',\n",
              "  u'',\n",
              "  u'\"Loudacre',\n",
              "  u'Mobile',\n",
              "  u'Browser',\n",
              "  u'Ronin',\n",
              "  u'S1\"'],\n",
              " [u'19.38.140.62',\n",
              "  u'-',\n",
              "  u'21475',\n",
              "  u'[15/Sep/2013:23:58:34',\n",
              "  u'+0100]',\n",
              "  u'\"GET',\n",
              "  u'/theme.css',\n",
              "  u'HTTP/1.0\"',\n",
              "  u'200',\n",
              "  u'13353',\n",
              "  u'\"http://www.loudacre.com\"',\n",
              "  u'',\n",
              "  u'\"Loudacre',\n",
              "  u'Mobile',\n",
              "  u'Browser',\n",
              "  u'Ronin',\n",
              "  u'S1\"'],\n",
              " [u'129.133.56.105',\n",
              "  u'-',\n",
              "  u'2489',\n",
              "  u'[15/Sep/2013:23:58:34',\n",
              "  u'+0100]',\n",
              "  u'\"GET',\n",
              "  u'/KBDOC-00033.html',\n",
              "  u'HTTP/1.0\"',\n",
              "  u'200',\n",
              "  u'10590',\n",
              "  u'\"http://www.loudacre.com\"',\n",
              "  u'',\n",
              "  u'\"Loudacre',\n",
              "  u'Mobile',\n",
              "  u'Browser',\n",
              "  u'Sorrento',\n",
              "  u'F00L\"']]"
            ]
          },
          "metadata": {
            "tags": []
          },
          "execution_count": 8
        }
      ]
    },
    {
      "metadata": {
        "id": "pjMGdYKzVIMu",
        "colab_type": "code",
        "colab": {}
      },
      "cell_type": "code",
      "source": [
        "#ip address: first column\n",
        "ipsRDD = logsRDD.map(lambda line: line.split(' ')[0])"
      ],
      "execution_count": 0,
      "outputs": []
    },
    {
      "metadata": {
        "id": "Ihm5IDuzVIMv",
        "colab_type": "code",
        "outputId": "a7bf9ee7-81ee-4252-d010-80b5cf19ca3f",
        "colab": {}
      },
      "cell_type": "code",
      "source": [
        "ipsRDD.take(5)"
      ],
      "execution_count": 0,
      "outputs": [
        {
          "output_type": "execute_result",
          "data": {
            "text/plain": [
              "[u'3.94.78.5',\n",
              " u'3.94.78.5',\n",
              " u'19.38.140.62',\n",
              " u'19.38.140.62',\n",
              " u'129.133.56.105']"
            ]
          },
          "metadata": {
            "tags": []
          },
          "execution_count": 9
        }
      ]
    },
    {
      "metadata": {
        "scrolled": false,
        "id": "8RUlxJ4nVIMx",
        "colab_type": "code",
        "outputId": "a0f8fdfc-c705-45d3-faa2-cfae27fe22bf",
        "colab": {}
      },
      "cell_type": "code",
      "source": [
        "for ip in ipsRDD.take(10): print ip"
      ],
      "execution_count": 0,
      "outputs": [
        {
          "output_type": "stream",
          "text": [
            "3.94.78.5\n",
            "3.94.78.5\n",
            "19.38.140.62\n",
            "19.38.140.62\n",
            "129.133.56.105\n",
            "129.133.56.105\n",
            "217.150.149.167\n",
            "217.150.149.167\n",
            "217.150.149.167\n",
            "217.150.149.167\n"
          ],
          "name": "stdout"
        }
      ]
    },
    {
      "metadata": {
        "id": "gWwDkJXZVIM0",
        "colab_type": "code",
        "colab": {}
      },
      "cell_type": "code",
      "source": [
        "ipsRDD.saveAsTextFile(\"/loudacre/iplist\")"
      ],
      "execution_count": 0,
      "outputs": []
    },
    {
      "metadata": {
        "id": "kKE8MfwwVIM1",
        "colab_type": "text"
      },
      "cell_type": "markdown",
      "source": [
        "# Bonus (ipaddress/userid)"
      ]
    },
    {
      "metadata": {
        "id": "r-PcWByxVIM2",
        "colab_type": "code",
        "colab": {}
      },
      "cell_type": "code",
      "source": [
        "#userid: thrid column\n",
        "bonus = logsRDD.map(lambda line: line.split(' ')).map(lambda str: str[0] + '/' + str[2])"
      ],
      "execution_count": 0,
      "outputs": []
    },
    {
      "metadata": {
        "id": "jz9pvSHBVIM4",
        "colab_type": "code",
        "outputId": "9338e6af-0c49-4316-fba6-14816147f5e2",
        "colab": {}
      },
      "cell_type": "code",
      "source": [
        "bonus.take(5)"
      ],
      "execution_count": 0,
      "outputs": [
        {
          "output_type": "execute_result",
          "data": {
            "text/plain": [
              "[u'3.94.78.5/69827',\n",
              " u'3.94.78.5/69827',\n",
              " u'19.38.140.62/21475',\n",
              " u'19.38.140.62/21475',\n",
              " u'129.133.56.105/2489']"
            ]
          },
          "metadata": {
            "tags": []
          },
          "execution_count": 11
        }
      ]
    },
    {
      "metadata": {
        "id": "-NeUA7b1VIM6",
        "colab_type": "code",
        "outputId": "8fe9b2e1-ed9f-40e3-91ad-99b827874eff",
        "colab": {}
      },
      "cell_type": "code",
      "source": [
        "for ip in bonus.take(5): print ip"
      ],
      "execution_count": 0,
      "outputs": [
        {
          "output_type": "stream",
          "text": [
            "3.94.78.5/69827\n",
            "3.94.78.5/69827\n",
            "19.38.140.62/21475\n",
            "19.38.140.62/21475\n",
            "129.133.56.105/2489\n"
          ],
          "name": "stdout"
        }
      ]
    }
  ]
}