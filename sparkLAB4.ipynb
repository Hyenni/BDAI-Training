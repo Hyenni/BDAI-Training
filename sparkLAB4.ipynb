{
  "nbformat": 4,
  "nbformat_minor": 0,
  "metadata": {
    "colab": {
      "name": "sparkLAB4.ipynb",
      "version": "0.3.2",
      "provenance": [],
      "collapsed_sections": [],
      "include_colab_link": true
    },
    "language_info": {
      "codemirror_mode": {
        "name": "ipython",
        "version": 2
      },
      "file_extension": ".py",
      "mimetype": "text/x-python",
      "name": "python",
      "nbconvert_exporter": "python",
      "pygments_lexer": "ipython2",
      "version": "2.7.8"
    },
    "kernelspec": {
      "display_name": "Python 2",
      "language": "python",
      "name": "python2"
    }
  },
  "cells": [
    {
      "cell_type": "markdown",
      "metadata": {
        "id": "view-in-github",
        "colab_type": "text"
      },
      "source": [
        "<a href=\"https://colab.research.google.com/github/Hyenni/BDAI-Training/blob/master/sparkLAB4.ipynb\" target=\"_parent\"><img src=\"https://colab.research.google.com/assets/colab-badge.svg\" alt=\"Open In Colab\"/></a>"
      ]
    },
    {
      "metadata": {
        "id": "SNC-s-cXXYtt",
        "colab_type": "text"
      },
      "cell_type": "markdown",
      "source": [
        "# Write and Run an Apache Spark Application"
      ]
    },
    {
      "metadata": {
        "id": "yE9urH4bXYtu",
        "colab_type": "code",
        "colab": {}
      },
      "cell_type": "code",
      "source": [
        "#CountJPGs.py\n",
        "\n",
        "import sys\n",
        "from pyspark import SparkContext\n",
        "\n",
        "if __name__ == \"__main__\":\n",
        "    if len(sys.argv) < 2:\n",
        "        print >> sys.stderr, \"Usage: CountJPGs.py <logfile>\"\n",
        "        exit(-1)\n",
        "\n",
        "    sc = SparkContext()\n",
        "    logfile = sys.argv[1]\n",
        "    sc.setLogLevel(\"WARN\")\n",
        "    count = sc.textFile(logfile).filter(lambda line: '.jpg' in line).count()\n",
        "    print \"Number of JPG requests: \", count\n",
        "    sc.stop()\n"
      ],
      "execution_count": 0,
      "outputs": []
    },
    {
      "metadata": {
        "id": "mK_YmA-AXYtx",
        "colab_type": "code",
        "colab": {}
      },
      "cell_type": "code",
      "source": [
        "$ DEVSH/exercises/spark-application/\n",
        "\n",
        "# version1\n",
        "$ spark-submit CountJPGs.py /loudacre/weblogs/*"
      ],
      "execution_count": 0,
      "outputs": []
    },
    {
      "metadata": {
        "id": "MyrQlT4aXYty",
        "colab_type": "code",
        "colab": {}
      },
      "cell_type": "code",
      "source": [
        "# version2\n",
        "$ spark-submit \\\n",
        "--master yarn-client \\\n",
        "CountJPGs.py /loudacre/weblogs/*"
      ],
      "execution_count": 0,
      "outputs": []
    },
    {
      "metadata": {
        "id": "kh3706l0p2Ji",
        "colab_type": "text"
      },
      "cell_type": "markdown",
      "source": [
        "# Configure an Apache Spark Application"
      ]
    },
    {
      "metadata": {
        "id": "xCGMJcTdp-_R",
        "colab_type": "code",
        "colab": {}
      },
      "cell_type": "code",
      "source": [
        "cd $DEVSH/exercises/spark-application/\n",
        "\n",
        "# version1\n",
        "$ spark-submit --master yarn-client \\\n",
        "--name 'Count JPGs' \\\n",
        "CountJPGs.py /loudacre/weblogs/*\n"
      ],
      "execution_count": 0,
      "outputs": []
    },
    {
      "metadata": {
        "id": "CMifaU7XqDYt",
        "colab_type": "code",
        "colab": {}
      },
      "cell_type": "code",
      "source": [
        "vi myspark.conf\n",
        "\n",
        "spark.app.name My Spark App\n",
        "spark.master yarn-client\n",
        "spark.executor.memory 400M"
      ],
      "execution_count": 0,
      "outputs": []
    },
    {
      "metadata": {
        "id": "fNzpP5hOqG8S",
        "colab_type": "code",
        "colab": {}
      },
      "cell_type": "code",
      "source": [
        "# version2\n",
        "$spark-submit --properties-file myspark.conf \\\n",
        "CountJPGs.py /loudacre/weblogs/*"
      ],
      "execution_count": 0,
      "outputs": []
    },
    {
      "metadata": {
        "id": "-ETW_fjO2LLd",
        "colab_type": "text"
      },
      "cell_type": "markdown",
      "source": [
        "### Check the change (spark.app.name) "
      ]
    },
    {
      "metadata": {
        "id": "85tuT-bJYW_H",
        "colab_type": "text"
      },
      "cell_type": "markdown",
      "source": [
        "![configure](https://user-images.githubusercontent.com/33708512/56344418-50fc3380-61f8-11e9-980e-d7056f2852d2.png)"
      ]
    }
  ]
}