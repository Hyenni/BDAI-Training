{
  "nbformat": 4,
  "nbformat_minor": 0,
  "metadata": {
    "colab": {
      "name": "sparkLAB5.ipynb",
      "version": "0.3.2",
      "provenance": [],
      "collapsed_sections": [],
      "include_colab_link": true
    },
    "language_info": {
      "codemirror_mode": {
        "name": "ipython",
        "version": 2
      },
      "file_extension": ".py",
      "mimetype": "text/x-python",
      "name": "python",
      "nbconvert_exporter": "python",
      "pygments_lexer": "ipython2",
      "version": "2.7.8"
    },
    "kernelspec": {
      "display_name": "Python 2",
      "language": "python",
      "name": "python2"
    }
  },
  "cells": [
    {
      "cell_type": "markdown",
      "metadata": {
        "id": "view-in-github",
        "colab_type": "text"
      },
      "source": [
        "<a href=\"https://colab.research.google.com/github/Hyenni/BDAI-Training/blob/master/sparkLAB5.ipynb\" target=\"_parent\"><img src=\"https://colab.research.google.com/assets/colab-badge.svg\" alt=\"Open In Colab\"/></a>"
      ]
    },
    {
      "metadata": {
        "id": "LvhvPfbnXb88",
        "colab_type": "text"
      },
      "cell_type": "markdown",
      "source": [
        "# Persist an RDD"
      ]
    },
    {
      "metadata": {
        "id": "hAgO7VKYXb89",
        "colab_type": "code",
        "colab": {}
      },
      "cell_type": "code",
      "source": [
        "# Stub code to paste into the shell\n",
        "\n",
        "sc.setLogLevel(\"WARN\")\n",
        "\n",
        "# Count web server log requests by user id\n",
        "userReqs = sc.textFile(\"/loudacre/weblogs/*2.log\")\\\n",
        "  .map(lambda line: line.split()) \\\n",
        "  .map(lambda words: (words[2],1)) \\\n",
        "  .reduceByKey(lambda v1,v2: v1+v2)\n",
        "\n",
        "# Map account data to (userid,\"lastname,firstname\") pairs\n",
        "accounts = sc.textFile(\"/loudacre/accounts/*\")\\\n",
        "  .map(lambda s: s.split(',')) \\\n",
        "  .map(lambda values: (values[0],values[4] + ',' + values[3]))\n",
        "\n",
        "# Join account names with request counts\n",
        "accountHits=accounts.join(userReqs)\\\n",
        "  .map(lambda (userid,values): values) \n"
      ],
      "execution_count": 0,
      "outputs": []
    },
    {
      "metadata": {
        "id": "qZoA9icrXb8_",
        "colab_type": "code",
        "outputId": "9584923b-0268-45be-93e9-4117644ef4e5",
        "colab": {}
      },
      "cell_type": "code",
      "source": [
        "#  How many accounts had hitcount > 5? \n",
        "accountHits.filter(lambda (firstlast,hitcount): hitcount > 5).count()\n",
        "\n",
        "# Persist the RDD\n",
        "accountHits.persist()\n"
      ],
      "execution_count": 0,
      "outputs": [
        {
          "output_type": "execute_result",
          "data": {
            "text/plain": [
              "PythonRDD[36] at RDD at PythonRDD.scala:43"
            ]
          },
          "metadata": {
            "tags": []
          },
          "execution_count": 7
        }
      ]
    },
    {
      "metadata": {
        "id": "82W9bQshXb9D",
        "colab_type": "code",
        "outputId": "6642a447-2d6c-4d48-f59d-3a88181b6073",
        "colab": {}
      },
      "cell_type": "code",
      "source": [
        "# Rerun the job\n",
        "accountHits.filter(lambda (firstlast,hitcount): hitcount > 5).count()\n",
        "\n",
        "print accountHits.toDebugString()\n"
      ],
      "execution_count": 0,
      "outputs": [
        {
          "output_type": "stream",
          "text": [
            "(23) PythonRDD[36] at RDD at PythonRDD.scala:43 [Memory Serialized 1x Replicated]\n",
            " |        CachedPartitions: 23; MemorySize: 311.2 KB; ExternalBlockStoreSize: 0.0 B; DiskSize: 0.0 B\n",
            " |   MapPartitionsRDD[34] at mapPartitions at PythonRDD.scala:374 [Memory Serialized 1x Replicated]\n",
            " |   ShuffledRDD[33] at partitionBy at NativeMethodAccessorImpl.java:-2 [Memory Serialized 1x Replicated]\n",
            " +-(23) PairwiseRDD[32] at join at <ipython-input-6-1a021ee00ccc>:12 [Memory Serialized 1x Replicated]\n",
            "    |   PythonRDD[31] at join at <ipython-input-6-1a021ee00ccc>:12 [Memory Serialized 1x Replicated]\n",
            "    |   UnionRDD[30] at union at NativeMethodAccessorImpl.java:-2 [Memory Serialized 1x Replicated]\n",
            "    |   PythonRDD[28] at RDD at PythonRDD.scala:43 [Memory Serialized 1x Replicated]\n",
            "    |   /loudacre/accounts/* MapPartitionsRDD[27] at textFile at NativeMethodAccessorImpl.java:-2 [Memory Serialized 1x Replicated]\n",
            "    |   /loudacre/accounts/* HadoopRDD[26] at textFile at NativeMethodAccessorImpl.java:-2 [Memory Serialized 1x Replicated]\n",
            "    |   PythonRDD[29] at RDD at PythonRDD.scala:43 [Memory Serialized 1x Replicated]\n",
            "    |   MapPartitionsRDD[25] at mapPartitions at PythonRDD.scala:374 [Memory Serialized 1x Replicated]\n",
            "    |   ShuffledRDD[24] at partitionBy at NativeMethodAccessorImpl.java:-2 [Memory Serialized 1x Replicated]\n",
            "    +-(18) PairwiseRDD[23] at reduceByKey at <ipython-input-6-1a021ee00ccc>:6 [Memory Serialized 1x Replicated]\n",
            "       |   PythonRDD[22] at reduceByKey at <ipython-input-6-1a021ee00ccc>:6 [Memory Serialized 1x Replicated]\n",
            "       |   /loudacre/weblogs/*2.log MapPartitionsRDD[21] at textFile at NativeMethodAccessorImpl.java:-2 [Memory Serialized 1x Replicated]\n",
            "       |   /loudacre/weblogs/*2.log HadoopRDD[20] at textFile at NativeMethodAccessorImpl.java:-2 [Memory Serialized 1x Replicated]\n"
          ],
          "name": "stdout"
        }
      ]
    },
    {
      "metadata": {
        "id": "8oxHOCTpXb9F",
        "colab_type": "code",
        "outputId": "6db5bf9f-cd49-452a-dc9c-a87eeb672dac",
        "colab": {}
      },
      "cell_type": "code",
      "source": [
        "from pyspark import StorageLevel\n",
        "accountHits.unpersist()\n",
        "accountHits.persist(StorageLevel.DISK_ONLY)\n",
        "\n",
        "accountHits.filter(lambda (firstlast,hitcount): hitcount > 5).count()"
      ],
      "execution_count": 0,
      "outputs": [
        {
          "output_type": "execute_result",
          "data": {
            "text/plain": [
              "5872"
            ]
          },
          "metadata": {
            "tags": []
          },
          "execution_count": 4
        }
      ]
    },
    {
      "metadata": {
        "id": "uSjsNy7S29op",
        "colab_type": "text"
      },
      "cell_type": "markdown",
      "source": [
        "### in Memory vs on Disk"
      ]
    },
    {
      "metadata": {
        "id": "8sjwP2I4X9D1",
        "colab_type": "text"
      },
      "cell_type": "markdown",
      "source": [
        "![persist](https://user-images.githubusercontent.com/33708512/56344343-227e5880-61f8-11e9-9c4d-0695d68ff1f2.png)\n"
      ]
    }
  ]
}